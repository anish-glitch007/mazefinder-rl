{
 "cells": [
  {
   "cell_type": "code",
   "execution_count": 495,
   "metadata": {},
   "outputs": [],
   "source": [
    "import numpy as np\n",
    "from tqdm import tqdm\n",
    "from IPython.display import clear_output"
   ]
  },
  {
   "cell_type": "code",
   "execution_count": 496,
   "metadata": {},
   "outputs": [],
   "source": [
    "DOWN = 0\n",
    "UP = 1\n",
    "LEFT = 2\n",
    "RIGHT = 3\n",
    "actions = [DOWN, UP, LEFT, RIGHT]"
   ]
  },
  {
   "cell_type": "code",
   "execution_count": 499,
   "metadata": {},
   "outputs": [
    {
     "ename": "TypeError",
     "evalue": "step() missing 1 required positional argument: 'action'",
     "output_type": "error",
     "traceback": [
      "\u001b[1;31m---------------------------------------------------------------------------\u001b[0m",
      "\u001b[1;31mTypeError\u001b[0m                                 Traceback (most recent call last)",
      "\u001b[1;32m~\\AppData\\Local\\Temp\\ipykernel_20168\\2280421655.py\u001b[0m in \u001b[0;36m<module>\u001b[1;34m\u001b[0m\n\u001b[0;32m      4\u001b[0m \u001b[0mQ\u001b[0m \u001b[1;33m=\u001b[0m \u001b[0mnp\u001b[0m\u001b[1;33m.\u001b[0m\u001b[0mzeros\u001b[0m\u001b[1;33m(\u001b[0m\u001b[1;33m(\u001b[0m\u001b[0menv\u001b[0m\u001b[1;33m.\u001b[0m\u001b[0mnum_rows\u001b[0m\u001b[1;33m,\u001b[0m \u001b[0menv\u001b[0m\u001b[1;33m.\u001b[0m\u001b[0mnum_cols\u001b[0m\u001b[1;33m,\u001b[0m \u001b[0menv\u001b[0m\u001b[1;33m.\u001b[0m\u001b[0mnum_actions\u001b[0m\u001b[1;33m)\u001b[0m\u001b[1;33m)\u001b[0m\u001b[1;33m\u001b[0m\u001b[1;33m\u001b[0m\u001b[0m\n\u001b[0;32m      5\u001b[0m \u001b[1;33m\u001b[0m\u001b[0m\n\u001b[1;32m----> 6\u001b[1;33m \u001b[0mnext_state\u001b[0m\u001b[1;33m,\u001b[0m \u001b[0mreward\u001b[0m\u001b[1;33m,\u001b[0m \u001b[0mdone\u001b[0m \u001b[1;33m=\u001b[0m \u001b[0mgw\u001b[0m\u001b[1;33m.\u001b[0m\u001b[0mstep\u001b[0m\u001b[1;33m(\u001b[0m\u001b[0mUP\u001b[0m\u001b[1;33m)\u001b[0m\u001b[1;33m\u001b[0m\u001b[1;33m\u001b[0m\u001b[0m\n\u001b[0m\u001b[0;32m      7\u001b[0m \u001b[1;31m# gw.step(gw,UP)\u001b[0m\u001b[1;33m\u001b[0m\u001b[1;33m\u001b[0m\u001b[0m\n\u001b[0;32m      8\u001b[0m \u001b[0mplot_Q\u001b[0m\u001b[1;33m(\u001b[0m\u001b[0mQ\u001b[0m\u001b[1;33m)\u001b[0m\u001b[1;33m\u001b[0m\u001b[1;33m\u001b[0m\u001b[0m\n",
      "\u001b[1;31mTypeError\u001b[0m: step() missing 1 required positional argument: 'action'"
     ]
    }
   ],
   "source": [
    "from GridWorld_PA1 import *\n",
    "\n",
    "\n",
    "Q = np.zeros((env.num_rows, env.num_cols, env.num_actions))\n",
    "\n",
    "next_state, reward, done = gw.step(UP)\n",
    "# gw.step(gw,UP)\n",
    "plot_Q(Q)\n",
    "\n",
    "Q.shape"
   ]
  },
  {
   "cell_type": "code",
   "execution_count": null,
   "metadata": {},
   "outputs": [],
   "source": [
    "from scipy.special import softmax\n",
    "\n",
    "seed = 42\n",
    "rg = np.random.RandomState(seed)\n",
    "# print(rg)\n",
    "\n",
    "# Epsilon greedy\n",
    "def choose_action_epsilon(Q, state, epsilon, rg=rg):\n",
    "\n",
    "    # print(Q[state[0], state[1]])\n",
    "    x,y=state\n",
    "    action_values=Q[x,y]\n",
    "    if not Q[state[0], state[1]].any() : \n",
    "        return rg.choice(len(actions)) #4 action_values  \n",
    "    # TODO: return random action\n",
    "    else:   \n",
    "        return rg.choice([np.argmax(action_values),np.random.choice(actions)],p=[1-epsilon,epsilon])\n",
    "    # TODO: return best action\n",
    "\n",
    "# Softmax\n",
    "def choose_action_softmax(Q, state, rg=rg):\n",
    "    \n",
    "    [x,y]=state\n",
    "    action_values=Q[x,y]\n",
    "    # return  np.random.choice(rg,softmax)\n",
    "    action_probs = softmax(action_values)\n",
    "    action_indices = np.arange(len(action_values))\n",
    "    chosen_index=rg.choice(action_indices, p=action_probs)\n",
    "\n",
    "    return chosen_index\n"
   ]
  },
  {
   "cell_type": "markdown",
   "metadata": {},
   "source": []
  },
  {
   "cell_type": "code",
   "execution_count": null,
   "metadata": {},
   "outputs": [],
   "source": [
    "# initialize Q-value\n",
    "Q = np.zeros((env.num_rows, env.num_cols, env.num_actions))\n",
    "\n",
    "\n",
    "\n",
    "alpha0 = 0.4\n",
    "gamma = 0.9\n",
    "episodes = 5000\n",
    "epsilon0 = 0.1"
   ]
  },
  {
   "cell_type": "markdown",
   "metadata": {},
   "source": [
    "SARSA implementation"
   ]
  },
  {
   "cell_type": "code",
   "execution_count": null,
   "metadata": {},
   "outputs": [],
   "source": [
    "print_freq = 100\n",
    "\n",
    "def sarsa(env, Q, gamma = 0.9, plot_heat = False, choose_action = choose_action_softmax):\n",
    "\n",
    "    episode_rewards = np.zeros(episodes)\n",
    "    steps_to_completion = np.zeros(episodes)\n",
    "    if plot_heat:\n",
    "        clear_output(wait=True)\n",
    "        plot_Q(Q)\n",
    "    epsilon = epsilon0\n",
    "    alpha = alpha0\n",
    "    for ep in tqdm(range(episodes)):\n",
    "        tot_reward, steps = 0, 0\n",
    "        \n",
    "        # Reset environment\n",
    "        state = env.reset()\n",
    "        # print(state)\n",
    "        state_row_col = seq_to_col_row(state, env.num_cols)[0]\n",
    "        [x,y] = state_row_col\n",
    "        action = choose_action(Q, state_row_col)\n",
    "        done = False\n",
    "        \n",
    "        while not done:\n",
    "            # print(\"action\", action)\n",
    "            # print(state)\n",
    "            state_next, reward, done = env.step(action)\n",
    "            state_next_row_col = seq_to_col_row(state_next, env.num_cols)[0]\n",
    "            [x_next, y_next] = state_next_row_col\n",
    "            action_next = choose_action(Q, state_next_row_col)\n",
    "\n",
    "            # TODO: update equation\n",
    "            Q[x, y, action] = Q[x , y , action] + alpha*( reward + gamma*Q[x_next, y_next, action_next] - Q[x, y, action])\n",
    "                                                    \n",
    "            tot_reward += reward\n",
    "            steps += 1\n",
    "            \n",
    "            state, action = state_next, action_next\n",
    "        \n",
    "        episode_rewards[ep] = tot_reward\n",
    "        steps_to_completion[ep] = steps\n",
    "        \n",
    "        if (ep+1)%print_freq == 0 and plot_heat:\n",
    "            clear_output(wait=True)\n",
    "            plot_Q(Q, message = \"Episode %d: Reward: %f, Steps: %.2f, Qmax: %.2f, Qmin: %.2f\"%(ep+1, np.mean(episode_rewards[ep-print_freq+1:ep]),\n",
    "                                                                           np.mean(steps_to_completion[ep-print_freq+1:ep]),\n",
    "                                                                           Q.max(), Q.min()))\n",
    "                \n",
    "    return Q, episode_rewards, steps_to_completion"
   ]
  },
  {
   "cell_type": "code",
   "execution_count": null,
   "metadata": {},
   "outputs": [
    {
     "data": {
      "image/png": "[encoded data removed]",
      "text/plain": [
       "<Figure size 1000x1000 with 2 Axes>"
      ]
     },
     "metadata": {},
     "output_type": "display_data"
    },
    {
     "name": "stderr",
     "output_type": "stream",
     "text": [
      "  0%|          | 0/5000 [00:00<?, ?it/s]\n"
     ]
    },
    {
     "ename": "TypeError",
     "evalue": "step() missing 1 required positional argument: 'action'",
     "output_type": "error",
     "traceback": [
      "\u001b[1;31m---------------------------------------------------------------------------\u001b[0m",
      "\u001b[1;31mTypeError\u001b[0m                                 Traceback (most recent call last)",
      "\u001b[1;32m~\\AppData\\Local\\Temp\\ipykernel_20168\\3663836374.py\u001b[0m in \u001b[0;36m<module>\u001b[1;34m\u001b[0m\n\u001b[1;32m----> 1\u001b[1;33m \u001b[0mQ\u001b[0m\u001b[1;33m,\u001b[0m \u001b[0mrewards\u001b[0m\u001b[1;33m,\u001b[0m \u001b[0msteps\u001b[0m \u001b[1;33m=\u001b[0m \u001b[0msarsa\u001b[0m\u001b[1;33m(\u001b[0m\u001b[0mgw\u001b[0m\u001b[1;33m,\u001b[0m \u001b[0mQ\u001b[0m\u001b[1;33m,\u001b[0m \u001b[0mgamma\u001b[0m \u001b[1;33m=\u001b[0m \u001b[0mgamma\u001b[0m\u001b[1;33m,\u001b[0m \u001b[0mplot_heat\u001b[0m\u001b[1;33m=\u001b[0m\u001b[1;32mTrue\u001b[0m\u001b[1;33m,\u001b[0m \u001b[0mchoose_action\u001b[0m\u001b[1;33m=\u001b[0m \u001b[0mchoose_action_softmax\u001b[0m\u001b[1;33m)\u001b[0m\u001b[1;33m\u001b[0m\u001b[1;33m\u001b[0m\u001b[0m\n\u001b[0m",
      "\u001b[1;32m~\\AppData\\Local\\Temp\\ipykernel_20168\\3628924389.py\u001b[0m in \u001b[0;36msarsa\u001b[1;34m(env, Q, gamma, plot_heat, choose_action)\u001b[0m\n\u001b[0;32m     24\u001b[0m             \u001b[1;31m# print(\"action\", action)\u001b[0m\u001b[1;33m\u001b[0m\u001b[1;33m\u001b[0m\u001b[0m\n\u001b[0;32m     25\u001b[0m             \u001b[1;31m# print(state)\u001b[0m\u001b[1;33m\u001b[0m\u001b[1;33m\u001b[0m\u001b[0m\n\u001b[1;32m---> 26\u001b[1;33m             \u001b[0mstate_next\u001b[0m\u001b[1;33m,\u001b[0m \u001b[0mreward\u001b[0m\u001b[1;33m,\u001b[0m \u001b[0mdone\u001b[0m \u001b[1;33m=\u001b[0m \u001b[0menv\u001b[0m\u001b[1;33m.\u001b[0m\u001b[0mstep\u001b[0m\u001b[1;33m(\u001b[0m\u001b[0maction\u001b[0m\u001b[1;33m)\u001b[0m\u001b[1;33m\u001b[0m\u001b[1;33m\u001b[0m\u001b[0m\n\u001b[0m\u001b[0;32m     27\u001b[0m             \u001b[0mstate_next_row_col\u001b[0m \u001b[1;33m=\u001b[0m \u001b[0mseq_to_col_row\u001b[0m\u001b[1;33m(\u001b[0m\u001b[0mstate_next\u001b[0m\u001b[1;33m,\u001b[0m \u001b[0menv\u001b[0m\u001b[1;33m.\u001b[0m\u001b[0mnum_cols\u001b[0m\u001b[1;33m)\u001b[0m\u001b[1;33m[\u001b[0m\u001b[1;36m0\u001b[0m\u001b[1;33m]\u001b[0m\u001b[1;33m\u001b[0m\u001b[1;33m\u001b[0m\u001b[0m\n\u001b[0;32m     28\u001b[0m             \u001b[1;33m[\u001b[0m\u001b[0mx_next\u001b[0m\u001b[1;33m,\u001b[0m \u001b[0my_next\u001b[0m\u001b[1;33m]\u001b[0m \u001b[1;33m=\u001b[0m \u001b[0mstate_next_row_col\u001b[0m\u001b[1;33m\u001b[0m\u001b[1;33m\u001b[0m\u001b[0m\n",
      "\u001b[1;31mTypeError\u001b[0m: step() missing 1 required positional argument: 'action'"
     ]
    }
   ],
   "source": [
    "Q, rewards, steps = sarsa(gw, Q, gamma = gamma, plot_heat=True, choose_action= choose_action_softmax)"
   ]
  },
  {
   "cell_type": "code",
   "execution_count": null,
   "metadata": {},
   "outputs": [],
   "source": []
  }
 ],
 "metadata": {
  "kernelspec": {
   "display_name": "base",
   "language": "python",
   "name": "python3"
  },
  "language_info": {
   "codemirror_mode": {
    "name": "ipython",
    "version": 3
   },
   "file_extension": ".py",
   "mimetype": "text/x-python",
   "name": "python",
   "nbconvert_exporter": "python",
   "pygments_lexer": "ipython3",
   "version": "3.9.13"
  }
 },
 "nbformat": 4,
 "nbformat_minor": 2
}
