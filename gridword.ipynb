{
 "cells": [
  {
   "cell_type": "markdown",
   "metadata": {
    "tags": [
     "parameters"
    ]
   },
   "source": [
    "### Pilot:\n",
    "1. probabilities: p,b\n",
    "2. Wind pushes the agent one cell right after transition to each new state - probability: 0.4\n",
    "3. Episode termination - \n",
    "    - Goal reached\n",
    "    - Timesteps exceed 100 steps\n",
    "4. States and rewards- \n",
    "    - Start\n",
    "    - Goal =  +10\n",
    "    - Obstructed =\n",
    "    - Bad = -6\n",
    "    - Restart = -100\n",
    "    - Normal = -1\n",
    "\n",
    "5. env.step() - \n",
    "    - arg: current state and action\n",
    "    - returns: reward and next state\n",
    "6. Appropriate termination conditions need to coded. - \n",
    "    - env.reset() - resets the env\n",
    "\n",
    "7. For each experiment start state is fixed. Different experiments may have different start states.\n",
    "\n",
    "\n"
   ]
  },
  {
   "cell_type": "code",
   "execution_count": 3,
   "metadata": {},
   "outputs": [
    {
     "ename": "NameError",
     "evalue": "name 'sdfs' is not defined",
     "output_type": "error",
     "traceback": [
      "\u001b[1;31m---------------------------------------------------------------------------\u001b[0m",
      "\u001b[1;31mNameError\u001b[0m                                 Traceback (most recent call last)",
      "Cell \u001b[1;32mIn[3], line 2\u001b[0m\n\u001b[0;32m      1\u001b[0m \u001b[38;5;66;03m#TODO:\u001b[39;00m\n\u001b[1;32m----> 2\u001b[0m \u001b[43msdfs\u001b[49m\n",
      "\u001b[1;31mNameError\u001b[0m: name 'sdfs' is not defined"
     ]
    }
   ],
   "source": [
    "#TODO:\n"
   ]
  }
 ],
 "metadata": {
  "kernelspec": {
   "display_name": "Python 3",
   "language": "python",
   "name": "python3"
  },
  "language_info": {
   "codemirror_mode": {
    "name": "ipython",
    "version": 3
   },
   "file_extension": ".py",
   "mimetype": "text/x-python",
   "name": "python",
   "nbconvert_exporter": "python",
   "pygments_lexer": "ipython3",
   "version": "3.10.5"
  }
 },
 "nbformat": 4,
 "nbformat_minor": 2
}
